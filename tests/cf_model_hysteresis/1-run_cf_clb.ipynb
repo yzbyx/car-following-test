{
 "cells": [
  {
   "cell_type": "code",
   "execution_count": 1,
   "outputs": [],
   "source": [
    "import pandas as pd\n",
    "%load_ext autoreload\n",
    "%autoreload 2\n",
    "\n",
    "from trasim_simplified.core.kinematics.cfm import get_cf_func\n",
    "from trasim_simplified.core.constant import CFM\n",
    "\n",
    "dt = 0.1\n",
    "cf_name = CFM.IDM\n",
    "cf_func = get_cf_func(cf_name)\n",
    "param_names = [\"s0\", \"v0\", \"T\", \"omega\", \"d\", \"delta\"]\n",
    "# param_names = [\"k1\", \"k2\", \"thw\", \"s0\"]"
   ],
   "metadata": {
    "collapsed": false,
    "ExecuteTime": {
     "end_time": "2024-03-07T10:06:29.959923500Z",
     "start_time": "2024-03-07T10:06:29.696587100Z"
    }
   },
   "id": "5923bc3aa2f241cf"
  },
  {
   "cell_type": "code",
   "execution_count": 2,
   "outputs": [
    {
     "name": "stdout",
     "output_type": "stream",
     "text": [
      "690\n"
     ]
    }
   ],
   "source": [
    "from trasim_simplified.util.tools import load_from_pickle, save_to_pickle\n",
    "from trasim_simplified.core.constant import TrackInfo as TI, Prefix\n",
    "import numpy as np\n",
    "\n",
    "clb_type = \"full\"\n",
    "\n",
    "# 读取轨迹\n",
    "traj_s_full_ori: dict[str, dict] = load_from_pickle(r\"E:\\PyProject\\car-following-model-test\\tests\\data\\ori_full_traj_s.pkl\")\n",
    "# 去除NaN轨迹对\n",
    "invalid_pairs = np.load(r\"E:\\PyProject\\car-following-model-test\\tests\\data\\invalid_ids.npy\")\n",
    "traj_s_full_ori[\"dec\"] = {k: v for k, v in traj_s_full_ori[\"dec\"].items() if k not in invalid_pairs}\n",
    "traj_s_full_ori[\"acc\"] = {k: v for k, v in traj_s_full_ori[\"acc\"].items() if k not in invalid_pairs}\n",
    "\n",
    "save_to_pickle(traj_s_full_ori, r\"E:\\PyProject\\car-following-model-test\\tests\\data\\ori_full_traj_s.pkl\")\n",
    "\n",
    "traj_s_cut_pos = {pair_id: len(df_pair) for pair_id, df_pair in traj_s_full_ori[\"dec\"].items()}\n",
    "\n",
    "if clb_type == \"full\":\n",
    "    traj_s_full: dict[str, pd.DataFrame] = {pair_id: pd.concat([df_pair, traj_s_full_ori[\"acc\"][pair_id]]) for pair_id, df_pair in traj_s_full_ori[\"dec\"].items()}\n",
    "elif clb_type == \"dec\":\n",
    "    traj_s_full: dict[str, pd.DataFrame] = traj_s_full_ori[\"dec\"]\n",
    "elif clb_type == \"acc\":\n",
    "    traj_s_full: dict[str, pd.DataFrame] = traj_s_full_ori[\"acc\"]\n",
    "else:\n",
    "    raise ValueError(f\"clb_type: {clb_type} is not supported!\")\n",
    "\n",
    "obs_x_s = [traj_s_full[k][TI.x] for k in traj_s_full.keys()]\n",
    "obs_v_s = [traj_s_full[k][TI.v] for k in traj_s_full.keys()]\n",
    "obs_lx_s = [traj_s_full[k][Prefix.leader + TI.x] for k in traj_s_full.keys()]\n",
    "obs_lv_s = [traj_s_full[k][Prefix.leader + TI.v] for k in traj_s_full.keys()]\n",
    "leaderL_s = [traj_s_full[k][Prefix.leader + TI.v_Length].unique()[0] for k in traj_s_full.keys()]\n",
    "id_s = [k for k in traj_s_full.keys()]\n",
    "print(len(id_s))"
   ],
   "metadata": {
    "collapsed": false,
    "ExecuteTime": {
     "end_time": "2024-03-07T10:08:11.676732900Z",
     "start_time": "2024-03-07T10:08:10.807825600Z"
    }
   },
   "id": "d22e3253c7e12509"
  },
  {
   "cell_type": "code",
   "execution_count": 3,
   "outputs": [
    {
     "name": "stdout",
     "output_type": "stream",
     "text": [
      "Using geatpy\n"
     ]
    },
    {
     "name": "stderr",
     "output_type": "stream",
     "text": [
      "100%|██████████| 690/690 [14:46<00:00,  1.28s/it]\n"
     ]
    }
   ],
   "source": [
    "from trasim_simplified.util.calibrate.clb_cf_model import clb_run\n",
    "\n",
    "# 跟驰模型参数标定\n",
    "results = clb_run(\n",
    "    cf_func=cf_func, cf_name=cf_name,\n",
    "    obs_x_s=obs_x_s, obs_v_s=obs_v_s, obs_lx_s=obs_lx_s, obs_lv_s=obs_lv_s, leaderL_s=leaderL_s,\n",
    "    dt=0.1, seed=2024, drawing=0, n_jobs=4,\n",
    "    cf_param_ranges_=None\n",
    ")"
   ],
   "metadata": {
    "collapsed": false,
    "ExecuteTime": {
     "end_time": "2024-03-07T10:24:12.307471700Z",
     "start_time": "2024-03-07T10:09:15.187128800Z"
    }
   },
   "id": "933577ca7944c83"
  },
  {
   "cell_type": "code",
   "execution_count": 5,
   "outputs": [
    {
     "name": "stdout",
     "output_type": "stream",
     "text": [
      "avg_obj: 0.7230800807041379\n",
      "avg_param: [ 4.46822351 22.98656679  0.97528816  2.50608892  5.52303302  6.47971014]\n",
      "std_obj: 0.4412320415434251\n",
      "std_param: [ 2.58233578 11.69034305  0.56549775  2.12721417  4.03599354  3.48957369]\n"
     ]
    }
   ],
   "source": [
    "from trasim_simplified.util.calibrate.clb_cf_model import aggregate_result\n",
    "\n",
    "avg_obj, avg_param, std_obj, std_param = aggregate_result(results)\n",
    "print(f\"avg_obj: {avg_obj}\\navg_param: {avg_param}\\nstd_obj: {std_obj}\\nstd_param: {std_param}\")"
   ],
   "metadata": {
    "collapsed": false,
    "ExecuteTime": {
     "end_time": "2024-03-07T10:47:47.602978300Z",
     "start_time": "2024-03-07T10:47:47.498658900Z"
    }
   },
   "id": "b35bbcd0ebbe8eda"
  },
  {
   "cell_type": "code",
   "execution_count": 6,
   "outputs": [
    {
     "data": {
      "text/plain": "            s0         v0         T     omega          d  delta  Pair_ID  \\\n0    10.000000  40.000000  0.436868  0.548210  10.000000   10.0       10   \n1     7.737167  24.353724  0.476107  1.981402   2.087164    4.0       12   \n2    10.000000  40.000000  1.109293  0.605000   0.407477   10.0       14   \n3     6.811732  17.958565  0.733120  2.752649  10.000000    7.0       15   \n4     0.100000  17.043753  0.805630  1.015823   9.997592    6.0       17   \n..         ...        ...       ...       ...        ...    ...      ...   \n685   5.767894  10.000000  0.379805  1.382309   9.999943    2.0     6569   \n686  10.000000  40.000000  0.525731  0.771206  10.000000   10.0     6597   \n687   5.596684  10.007324  0.590291  1.280191   3.240674    4.0     6599   \n688   2.435371  25.120707  2.259007  1.832077   0.513617    2.0     6603   \n689   3.337429  12.869892  0.588166  1.691504   2.847299   10.0     6616   \n\n         ObjV  \n0    0.863981  \n1    0.576711  \n2    1.388066  \n3    0.543265  \n4    0.668795  \n..        ...  \n685  0.641105  \n686  1.838980  \n687  0.277605  \n688  0.952197  \n689  1.297660  \n\n[690 rows x 8 columns]",
      "text/html": "<div>\n<style scoped>\n    .dataframe tbody tr th:only-of-type {\n        vertical-align: middle;\n    }\n\n    .dataframe tbody tr th {\n        vertical-align: top;\n    }\n\n    .dataframe thead th {\n        text-align: right;\n    }\n</style>\n<table border=\"1\" class=\"dataframe\">\n  <thead>\n    <tr style=\"text-align: right;\">\n      <th></th>\n      <th>s0</th>\n      <th>v0</th>\n      <th>T</th>\n      <th>omega</th>\n      <th>d</th>\n      <th>delta</th>\n      <th>Pair_ID</th>\n      <th>ObjV</th>\n    </tr>\n  </thead>\n  <tbody>\n    <tr>\n      <th>0</th>\n      <td>10.000000</td>\n      <td>40.000000</td>\n      <td>0.436868</td>\n      <td>0.548210</td>\n      <td>10.000000</td>\n      <td>10.0</td>\n      <td>10</td>\n      <td>0.863981</td>\n    </tr>\n    <tr>\n      <th>1</th>\n      <td>7.737167</td>\n      <td>24.353724</td>\n      <td>0.476107</td>\n      <td>1.981402</td>\n      <td>2.087164</td>\n      <td>4.0</td>\n      <td>12</td>\n      <td>0.576711</td>\n    </tr>\n    <tr>\n      <th>2</th>\n      <td>10.000000</td>\n      <td>40.000000</td>\n      <td>1.109293</td>\n      <td>0.605000</td>\n      <td>0.407477</td>\n      <td>10.0</td>\n      <td>14</td>\n      <td>1.388066</td>\n    </tr>\n    <tr>\n      <th>3</th>\n      <td>6.811732</td>\n      <td>17.958565</td>\n      <td>0.733120</td>\n      <td>2.752649</td>\n      <td>10.000000</td>\n      <td>7.0</td>\n      <td>15</td>\n      <td>0.543265</td>\n    </tr>\n    <tr>\n      <th>4</th>\n      <td>0.100000</td>\n      <td>17.043753</td>\n      <td>0.805630</td>\n      <td>1.015823</td>\n      <td>9.997592</td>\n      <td>6.0</td>\n      <td>17</td>\n      <td>0.668795</td>\n    </tr>\n    <tr>\n      <th>...</th>\n      <td>...</td>\n      <td>...</td>\n      <td>...</td>\n      <td>...</td>\n      <td>...</td>\n      <td>...</td>\n      <td>...</td>\n      <td>...</td>\n    </tr>\n    <tr>\n      <th>685</th>\n      <td>5.767894</td>\n      <td>10.000000</td>\n      <td>0.379805</td>\n      <td>1.382309</td>\n      <td>9.999943</td>\n      <td>2.0</td>\n      <td>6569</td>\n      <td>0.641105</td>\n    </tr>\n    <tr>\n      <th>686</th>\n      <td>10.000000</td>\n      <td>40.000000</td>\n      <td>0.525731</td>\n      <td>0.771206</td>\n      <td>10.000000</td>\n      <td>10.0</td>\n      <td>6597</td>\n      <td>1.838980</td>\n    </tr>\n    <tr>\n      <th>687</th>\n      <td>5.596684</td>\n      <td>10.007324</td>\n      <td>0.590291</td>\n      <td>1.280191</td>\n      <td>3.240674</td>\n      <td>4.0</td>\n      <td>6599</td>\n      <td>0.277605</td>\n    </tr>\n    <tr>\n      <th>688</th>\n      <td>2.435371</td>\n      <td>25.120707</td>\n      <td>2.259007</td>\n      <td>1.832077</td>\n      <td>0.513617</td>\n      <td>2.0</td>\n      <td>6603</td>\n      <td>0.952197</td>\n    </tr>\n    <tr>\n      <th>689</th>\n      <td>3.337429</td>\n      <td>12.869892</td>\n      <td>0.588166</td>\n      <td>1.691504</td>\n      <td>2.847299</td>\n      <td>10.0</td>\n      <td>6616</td>\n      <td>1.297660</td>\n    </tr>\n  </tbody>\n</table>\n<p>690 rows × 8 columns</p>\n</div>"
     },
     "execution_count": 6,
     "metadata": {},
     "output_type": "execute_result"
    }
   ],
   "source": [
    "from trasim_simplified.util.calibrate.clb_cf_model import clb_param_to_df\n",
    "\n",
    "param_df = clb_param_to_df(id_s, results, cf_name)\n",
    "\n",
    "if clb_type == \"full\":\n",
    "    param_df.to_pickle(r\"E:\\PyProject\\car-following-model-test\\tests\\data\\clb_full_param_df\" + f\"_{cf_name}.pkl\")\n",
    "elif clb_type == \"dec\":\n",
    "    param_df.to_pickle(r\"E:\\PyProject\\car-following-model-test\\tests\\data\\clb_dec_param_df\" + f\"_{cf_name}.pkl\")\n",
    "elif clb_type == \"acc\":\n",
    "    param_df.to_pickle(r\"E:\\PyProject\\car-following-model-test\\tests\\data\\clb_acc_param_df\" + f\"_{cf_name}.pkl\")\n",
    "else:\n",
    "    raise ValueError(f\"clb_type: {clb_type} is not supported!\")\n",
    "param_df"
   ],
   "metadata": {
    "collapsed": false,
    "ExecuteTime": {
     "end_time": "2024-03-07T10:47:49.678152300Z",
     "start_time": "2024-03-07T10:47:49.562656300Z"
    }
   },
   "id": "cff7cec80dbd20a"
  },
  {
   "cell_type": "code",
   "outputs": [
    {
     "data": {
      "text/plain": "            s0         v0         T     omega          d  delta  Pair_ID  \\\n0    10.000000  40.000000  0.436868  0.548210  10.000000   10.0       10   \n1     7.737167  24.353724  0.476107  1.981402   2.087164    4.0       12   \n2    10.000000  40.000000  1.109293  0.605000   0.407477   10.0       14   \n3     6.811732  17.958565  0.733120  2.752649  10.000000    7.0       15   \n4     0.100000  17.043753  0.805630  1.015823   9.997592    6.0       17   \n..         ...        ...       ...       ...        ...    ...      ...   \n685   5.767894  10.000000  0.379805  1.382309   9.999943    2.0     6569   \n686  10.000000  40.000000  0.525731  0.771206  10.000000   10.0     6597   \n687   5.596684  10.007324  0.590291  1.280191   3.240674    4.0     6599   \n688   2.435371  25.120707  2.259007  1.832077   0.513617    2.0     6603   \n689   3.337429  12.869892  0.588166  1.691504   2.847299   10.0     6616   \n\n         ObjV  \n0    0.863981  \n1    0.576711  \n2    1.388066  \n3    0.543265  \n4    0.668795  \n..        ...  \n685  0.641105  \n686  1.838980  \n687  0.277605  \n688  0.952197  \n689  1.297660  \n\n[690 rows x 8 columns]",
      "text/html": "<div>\n<style scoped>\n    .dataframe tbody tr th:only-of-type {\n        vertical-align: middle;\n    }\n\n    .dataframe tbody tr th {\n        vertical-align: top;\n    }\n\n    .dataframe thead th {\n        text-align: right;\n    }\n</style>\n<table border=\"1\" class=\"dataframe\">\n  <thead>\n    <tr style=\"text-align: right;\">\n      <th></th>\n      <th>s0</th>\n      <th>v0</th>\n      <th>T</th>\n      <th>omega</th>\n      <th>d</th>\n      <th>delta</th>\n      <th>Pair_ID</th>\n      <th>ObjV</th>\n    </tr>\n  </thead>\n  <tbody>\n    <tr>\n      <th>0</th>\n      <td>10.000000</td>\n      <td>40.000000</td>\n      <td>0.436868</td>\n      <td>0.548210</td>\n      <td>10.000000</td>\n      <td>10.0</td>\n      <td>10</td>\n      <td>0.863981</td>\n    </tr>\n    <tr>\n      <th>1</th>\n      <td>7.737167</td>\n      <td>24.353724</td>\n      <td>0.476107</td>\n      <td>1.981402</td>\n      <td>2.087164</td>\n      <td>4.0</td>\n      <td>12</td>\n      <td>0.576711</td>\n    </tr>\n    <tr>\n      <th>2</th>\n      <td>10.000000</td>\n      <td>40.000000</td>\n      <td>1.109293</td>\n      <td>0.605000</td>\n      <td>0.407477</td>\n      <td>10.0</td>\n      <td>14</td>\n      <td>1.388066</td>\n    </tr>\n    <tr>\n      <th>3</th>\n      <td>6.811732</td>\n      <td>17.958565</td>\n      <td>0.733120</td>\n      <td>2.752649</td>\n      <td>10.000000</td>\n      <td>7.0</td>\n      <td>15</td>\n      <td>0.543265</td>\n    </tr>\n    <tr>\n      <th>4</th>\n      <td>0.100000</td>\n      <td>17.043753</td>\n      <td>0.805630</td>\n      <td>1.015823</td>\n      <td>9.997592</td>\n      <td>6.0</td>\n      <td>17</td>\n      <td>0.668795</td>\n    </tr>\n    <tr>\n      <th>...</th>\n      <td>...</td>\n      <td>...</td>\n      <td>...</td>\n      <td>...</td>\n      <td>...</td>\n      <td>...</td>\n      <td>...</td>\n      <td>...</td>\n    </tr>\n    <tr>\n      <th>685</th>\n      <td>5.767894</td>\n      <td>10.000000</td>\n      <td>0.379805</td>\n      <td>1.382309</td>\n      <td>9.999943</td>\n      <td>2.0</td>\n      <td>6569</td>\n      <td>0.641105</td>\n    </tr>\n    <tr>\n      <th>686</th>\n      <td>10.000000</td>\n      <td>40.000000</td>\n      <td>0.525731</td>\n      <td>0.771206</td>\n      <td>10.000000</td>\n      <td>10.0</td>\n      <td>6597</td>\n      <td>1.838980</td>\n    </tr>\n    <tr>\n      <th>687</th>\n      <td>5.596684</td>\n      <td>10.007324</td>\n      <td>0.590291</td>\n      <td>1.280191</td>\n      <td>3.240674</td>\n      <td>4.0</td>\n      <td>6599</td>\n      <td>0.277605</td>\n    </tr>\n    <tr>\n      <th>688</th>\n      <td>2.435371</td>\n      <td>25.120707</td>\n      <td>2.259007</td>\n      <td>1.832077</td>\n      <td>0.513617</td>\n      <td>2.0</td>\n      <td>6603</td>\n      <td>0.952197</td>\n    </tr>\n    <tr>\n      <th>689</th>\n      <td>3.337429</td>\n      <td>12.869892</td>\n      <td>0.588166</td>\n      <td>1.691504</td>\n      <td>2.847299</td>\n      <td>10.0</td>\n      <td>6616</td>\n      <td>1.297660</td>\n    </tr>\n  </tbody>\n</table>\n<p>690 rows × 8 columns</p>\n</div>"
     },
     "execution_count": 7,
     "metadata": {},
     "output_type": "execute_result"
    }
   ],
   "source": [
    "if clb_type == \"full\":\n",
    "    param_df = pd.read_pickle(r\"E:\\PyProject\\car-following-model-test\\tests\\data\\clb_full_param_df\" + f\"_{cf_name}.pkl\")\n",
    "elif clb_type == \"dec\":\n",
    "    param_df = pd.read_pickle(r\"E:\\PyProject\\car-following-model-test\\tests\\data\\clb_dec_param_df\" + f\"_{cf_name}.pkl\")\n",
    "elif clb_type == \"acc\":\n",
    "    param_df = pd.read_pickle(r\"E:\\PyProject\\car-following-model-test\\tests\\data\\clb_acc_param_df\" + f\"_{cf_name}.pkl\")\n",
    "else:\n",
    "    raise ValueError(f\"clb_type: {clb_type} is not supported!\")\n",
    "param_df"
   ],
   "metadata": {
    "collapsed": false,
    "ExecuteTime": {
     "end_time": "2024-03-07T10:47:52.547610600Z",
     "start_time": "2024-03-07T10:47:52.444089Z"
    }
   },
   "id": "136ce03cc1e57657",
   "execution_count": 7
  },
  {
   "cell_type": "code",
   "execution_count": 8,
   "outputs": [
    {
     "data": {
      "text/plain": "         s0     v0     T  omega      d  delta  ObjV\nmean   4.47  22.99  0.98   2.51   5.52   6.48  0.72\nstd    2.58  11.70  0.57   2.13   4.04   3.49  0.44\nmin    0.10  10.00  0.10   0.42   0.10   1.00  0.07\nmax   10.00  40.00  3.33  10.00  10.00  10.00  3.13",
      "text/html": "<div>\n<style scoped>\n    .dataframe tbody tr th:only-of-type {\n        vertical-align: middle;\n    }\n\n    .dataframe tbody tr th {\n        vertical-align: top;\n    }\n\n    .dataframe thead th {\n        text-align: right;\n    }\n</style>\n<table border=\"1\" class=\"dataframe\">\n  <thead>\n    <tr style=\"text-align: right;\">\n      <th></th>\n      <th>s0</th>\n      <th>v0</th>\n      <th>T</th>\n      <th>omega</th>\n      <th>d</th>\n      <th>delta</th>\n      <th>ObjV</th>\n    </tr>\n  </thead>\n  <tbody>\n    <tr>\n      <th>mean</th>\n      <td>4.47</td>\n      <td>22.99</td>\n      <td>0.98</td>\n      <td>2.51</td>\n      <td>5.52</td>\n      <td>6.48</td>\n      <td>0.72</td>\n    </tr>\n    <tr>\n      <th>std</th>\n      <td>2.58</td>\n      <td>11.70</td>\n      <td>0.57</td>\n      <td>2.13</td>\n      <td>4.04</td>\n      <td>3.49</td>\n      <td>0.44</td>\n    </tr>\n    <tr>\n      <th>min</th>\n      <td>0.10</td>\n      <td>10.00</td>\n      <td>0.10</td>\n      <td>0.42</td>\n      <td>0.10</td>\n      <td>1.00</td>\n      <td>0.07</td>\n    </tr>\n    <tr>\n      <th>max</th>\n      <td>10.00</td>\n      <td>40.00</td>\n      <td>3.33</td>\n      <td>10.00</td>\n      <td>10.00</td>\n      <td>10.00</td>\n      <td>3.13</td>\n    </tr>\n  </tbody>\n</table>\n</div>"
     },
     "execution_count": 8,
     "metadata": {},
     "output_type": "execute_result"
    }
   ],
   "source": [
    "pd.options.display.precision = 2\n",
    "\n",
    "param_df[param_names + [\"ObjV\"]].describe().loc[[\"mean\", \"std\", \"min\", \"max\"]]"
   ],
   "metadata": {
    "collapsed": false,
    "ExecuteTime": {
     "end_time": "2024-03-07T10:47:53.309613700Z",
     "start_time": "2024-03-07T10:47:53.207525100Z"
    }
   },
   "id": "f71e256a8c2a64d6"
  },
  {
   "cell_type": "code",
   "execution_count": 9,
   "outputs": [
    {
     "data": {
      "text/plain": "<Figure size 640x480 with 1 Axes>",
      "image/png": "[encoded data removed]"
     },
     "metadata": {},
     "output_type": "display_data"
    }
   ],
   "source": [
    "from trasim_simplified.util.calibrate.clb_cf_model import show_traj\n",
    "import random\n",
    "import numpy as np\n",
    "\n",
    "pos = random.choice(range(len(id_s)))\n",
    "id_ = id_s[pos]\n",
    "# id_ = 5283\n",
    "pos = np.where(np.array(id_s) == id_)[0][0]\n",
    "\n",
    "# pos = param_df[param_df[TI.Pair_ID] == 2778].index[0]\n",
    "\n",
    "target = param_df[param_df[TI.Pair_ID] == id_]\n",
    "obs_x = obs_x_s[pos]\n",
    "obs_v = obs_v_s[pos]\n",
    "obs_lx = obs_lx_s[pos]\n",
    "obs_lv = obs_lv_s[pos]\n",
    "leaderL = leaderL_s[pos]\n",
    "show_traj(cf_name, target.to_numpy().reshape(-1), dt, obs_x, obs_v, obs_lx, obs_lv, leaderL, traj_step=None, pair_ID=id_)"
   ],
   "metadata": {
    "collapsed": false,
    "ExecuteTime": {
     "end_time": "2024-03-07T10:47:54.300279500Z",
     "start_time": "2024-03-07T10:47:53.832777600Z"
    }
   },
   "id": "5be6303756e7d65a"
  },
  {
   "cell_type": "code",
   "execution_count": 10,
   "outputs": [],
   "source": [
    "from trasim_simplified.util.tools import save_to_pickle\n",
    "from trasim_simplified.util.calibrate.clb_cf_model import get_clb_traj\n",
    "\n",
    "traj_s_full_: dict[str, pd.DataFrame] = {pair_id: pd.concat([df_pair, traj_s_full_ori[\"acc\"][pair_id]]) for pair_id, df_pair in traj_s_full_ori[\"dec\"].items()}\n",
    "\n",
    "clb_traj_s = get_clb_traj(traj_s_full_, traj_s_cut_pos, param_df, cf_func, cf_name, dt)\n",
    "\n",
    "if clb_type == \"full\":\n",
    "    save_to_pickle(clb_traj_s,\n",
    "               r\"E:\\PyProject\\car-following-model-test\\tests\\data\\clb_full_traj_s\" + f\"_{cf_name}.pkl\")\n",
    "elif clb_type == \"dec\":\n",
    "    save_to_pickle(clb_traj_s,\n",
    "               r\"E:\\PyProject\\car-following-model-test\\tests\\data\\clb_dec_traj_s\" + f\"_{cf_name}.pkl\")\n",
    "    print(len(clb_traj_s[\"acc\"]))\n",
    "elif clb_type == \"acc\":\n",
    "    save_to_pickle(clb_traj_s,\n",
    "               r\"E:\\PyProject\\car-following-model-test\\tests\\data\\clb_acc_traj_s\" + f\"_{cf_name}.pkl\")\n",
    "else:\n",
    "    raise ValueError(f\"clb_type: {clb_type} is not supported!\")"
   ],
   "metadata": {
    "collapsed": false,
    "ExecuteTime": {
     "end_time": "2024-03-07T10:47:56.131690500Z",
     "start_time": "2024-03-07T10:47:54.834342800Z"
    }
   },
   "id": "72a6dbca137bdaad"
  },
  {
   "cell_type": "code",
   "execution_count": null,
   "outputs": [],
   "source": [],
   "metadata": {
    "collapsed": false
   },
   "id": "bbdfcaffe69d96a5"
  }
 ],
 "metadata": {
  "kernelspec": {
   "display_name": "Python 3",
   "language": "python",
   "name": "python3"
  },
  "language_info": {
   "codemirror_mode": {
    "name": "ipython",
    "version": 2
   },
   "file_extension": ".py",
   "mimetype": "text/x-python",
   "name": "python",
   "nbconvert_exporter": "python",
   "pygments_lexer": "ipython2",
   "version": "2.7.6"
  }
 },
 "nbformat": 4,
 "nbformat_minor": 5
}
