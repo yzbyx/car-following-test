{
 "cells": [
  {
   "cell_type": "code",
   "execution_count": 1,
   "outputs": [],
   "source": [
    "import numpy as np\n",
    "import pandas as pd\n",
    "%load_ext autoreload\n",
    "%autoreload 2\n",
    "\n",
    "from trasim_simplified.core.kinematics.cfm import get_cf_func\n",
    "from trasim_simplified.core.constant import CFM\n",
    "\n",
    "dt = 0.1\n",
    "cf_name = CFM.IDM\n",
    "cf_func = get_cf_func(cf_name)\n",
    "param_names = [\"s0\", \"v0\", \"T\", \"omega\", \"d\", \"delta\"]\n",
    "# param_names = [\"k1\", \"k2\", \"thw\", \"s0\"]"
   ],
   "metadata": {
    "collapsed": false,
    "ExecuteTime": {
     "end_time": "2023-11-24T12:05:16.690878400Z",
     "start_time": "2023-11-24T12:05:16.452961Z"
    }
   },
   "id": "5923bc3aa2f241cf"
  },
  {
   "cell_type": "code",
   "execution_count": 2,
   "outputs": [
    {
     "name": "stdout",
     "output_type": "stream",
     "text": [
      "320\n"
     ]
    }
   ],
   "source": [
    "from trasim_simplified.util.tools import load_from_pickle\n",
    "from trasim_simplified.core.constant import TrackInfo as TI, Prefix\n",
    "\n",
    "# 读取轨迹\n",
    "traj_s_full_ori: dict[str, dict] = load_from_pickle(r\"E:\\PyProject\\car-following-model-test\\tests\\data\\ori_dec_acc_traj_s.pkl\")\n",
    "traj_s_cut_pos = {pair_id: len(df_pair) for pair_id, df_pair in traj_s_full_ori[\"dec\"].items()}\n",
    "\n",
    "traj_s_full: dict[str, pd.DataFrame] = {pair_id: pd.concat([df_pair, traj_s_full_ori[\"acc\"][pair_id]]) for pair_id, df_pair in traj_s_full_ori[\"dec\"].items()}\n",
    "obs_x_s = [traj_s_full[k][TI.x] for k in traj_s_full.keys()]\n",
    "obs_v_s = [traj_s_full[k][TI.v] for k in traj_s_full.keys()]\n",
    "obs_lx_s = [traj_s_full[k][Prefix.leader + TI.x] for k in traj_s_full.keys()]\n",
    "obs_lv_s = [traj_s_full[k][Prefix.leader + TI.v] for k in traj_s_full.keys()]\n",
    "leaderL_s = [traj_s_full[k][Prefix.leader + TI.v_Length].unique()[0] for k in traj_s_full.keys()]\n",
    "id_s = [k for k in traj_s_full.keys()]\n",
    "print(len(id_s))"
   ],
   "metadata": {
    "collapsed": false,
    "ExecuteTime": {
     "end_time": "2023-11-24T12:05:18.262002700Z",
     "start_time": "2023-11-24T12:05:17.997188600Z"
    }
   },
   "id": "d22e3253c7e12509"
  },
  {
   "cell_type": "code",
   "execution_count": 3,
   "outputs": [
    {
     "name": "stdout",
     "output_type": "stream",
     "text": [
      "Using geatpy\n"
     ]
    }
   ],
   "source": [
    "from trasim_simplified.util.calibrate.clb_cf_model import clb_run\n",
    "\n",
    "# 跟驰模型参数标定\n",
    "results = clb_run(cf_func=cf_func, cf_name=cf_name,\n",
    "                  obs_x_s=obs_x_s, obs_v_s=obs_v_s, obs_lx_s=obs_lx_s, obs_lv_s=obs_lv_s, leaderL_s=leaderL_s,\n",
    "                  dt=0.1, seed=2024, drawing=0, n_jobs=4)"
   ],
   "metadata": {
    "collapsed": false,
    "ExecuteTime": {
     "end_time": "2023-11-24T12:11:01.656225100Z",
     "start_time": "2023-11-24T12:05:30.195253500Z"
    }
   },
   "id": "933577ca7944c83"
  },
  {
   "cell_type": "code",
   "execution_count": 4,
   "outputs": [
    {
     "name": "stdout",
     "output_type": "stream",
     "text": [
      "avg_obj: 16.985627910370717\n",
      "avg_param: [ 4.1008338  26.3278234   1.06477612  2.47868142  5.08311979  5.996875  ]\n",
      "std_obj: 9.236824569295067\n",
      "std_param: [ 2.41441558 14.13936598  0.57043925  2.22372409  3.85295486  3.49865906]\n"
     ]
    }
   ],
   "source": [
    "from trasim_simplified.util.calibrate.clb_cf_model import aggregate_result\n",
    "\n",
    "avg_obj, avg_param, std_obj, std_param = aggregate_result(results)\n",
    "print(f\"avg_obj: {avg_obj}\\navg_param: {avg_param}\\nstd_obj: {std_obj}\\nstd_param: {std_param}\")"
   ],
   "metadata": {
    "collapsed": false,
    "ExecuteTime": {
     "end_time": "2023-11-24T12:12:23.066155200Z",
     "start_time": "2023-11-24T12:12:22.969061600Z"
    }
   },
   "id": "b35bbcd0ebbe8eda"
  },
  {
   "cell_type": "code",
   "execution_count": 5,
   "outputs": [
    {
     "data": {
      "text/plain": "           s0         v0         T      omega          d  delta  Pair_ID  \\\n0    5.263910  49.999962  1.541605   1.320260   8.627592   10.0      192   \n1    3.644018  12.264595  0.733242   1.753525   9.999924   10.0      195   \n2    5.456839  13.373985  1.240511   2.796910   6.160598   10.0      196   \n3    6.034975  15.261345  1.485023   1.830330  10.000000    7.0      197   \n4    4.335928  14.275742  1.358891   2.036001   2.749949   10.0      199   \n..        ...        ...       ...        ...        ...    ...      ...   \n315  0.000000  35.447350  1.765614   5.206991   1.219058    1.0     6216   \n316  2.136602  39.901276  0.310650   1.500203   0.970608    1.0     6394   \n317  2.732277  26.479301  1.212530   1.613764   8.744552   10.0     6395   \n318  2.590122  16.543350  1.469288   2.777980  10.000000    3.0     6417   \n319  3.095894  10.339775  0.330696  10.000000  10.000000   10.0     6420   \n\n          ObjV  \n0    11.514163  \n1     9.598012  \n2     7.231744  \n3    17.875899  \n4    11.664526  \n..         ...  \n315  10.668306  \n316  17.509274  \n317   6.639412  \n318  19.415002  \n319  21.110593  \n\n[320 rows x 8 columns]",
      "text/html": "<div>\n<style scoped>\n    .dataframe tbody tr th:only-of-type {\n        vertical-align: middle;\n    }\n\n    .dataframe tbody tr th {\n        vertical-align: top;\n    }\n\n    .dataframe thead th {\n        text-align: right;\n    }\n</style>\n<table border=\"1\" class=\"dataframe\">\n  <thead>\n    <tr style=\"text-align: right;\">\n      <th></th>\n      <th>s0</th>\n      <th>v0</th>\n      <th>T</th>\n      <th>omega</th>\n      <th>d</th>\n      <th>delta</th>\n      <th>Pair_ID</th>\n      <th>ObjV</th>\n    </tr>\n  </thead>\n  <tbody>\n    <tr>\n      <th>0</th>\n      <td>5.263910</td>\n      <td>49.999962</td>\n      <td>1.541605</td>\n      <td>1.320260</td>\n      <td>8.627592</td>\n      <td>10.0</td>\n      <td>192</td>\n      <td>11.514163</td>\n    </tr>\n    <tr>\n      <th>1</th>\n      <td>3.644018</td>\n      <td>12.264595</td>\n      <td>0.733242</td>\n      <td>1.753525</td>\n      <td>9.999924</td>\n      <td>10.0</td>\n      <td>195</td>\n      <td>9.598012</td>\n    </tr>\n    <tr>\n      <th>2</th>\n      <td>5.456839</td>\n      <td>13.373985</td>\n      <td>1.240511</td>\n      <td>2.796910</td>\n      <td>6.160598</td>\n      <td>10.0</td>\n      <td>196</td>\n      <td>7.231744</td>\n    </tr>\n    <tr>\n      <th>3</th>\n      <td>6.034975</td>\n      <td>15.261345</td>\n      <td>1.485023</td>\n      <td>1.830330</td>\n      <td>10.000000</td>\n      <td>7.0</td>\n      <td>197</td>\n      <td>17.875899</td>\n    </tr>\n    <tr>\n      <th>4</th>\n      <td>4.335928</td>\n      <td>14.275742</td>\n      <td>1.358891</td>\n      <td>2.036001</td>\n      <td>2.749949</td>\n      <td>10.0</td>\n      <td>199</td>\n      <td>11.664526</td>\n    </tr>\n    <tr>\n      <th>...</th>\n      <td>...</td>\n      <td>...</td>\n      <td>...</td>\n      <td>...</td>\n      <td>...</td>\n      <td>...</td>\n      <td>...</td>\n      <td>...</td>\n    </tr>\n    <tr>\n      <th>315</th>\n      <td>0.000000</td>\n      <td>35.447350</td>\n      <td>1.765614</td>\n      <td>5.206991</td>\n      <td>1.219058</td>\n      <td>1.0</td>\n      <td>6216</td>\n      <td>10.668306</td>\n    </tr>\n    <tr>\n      <th>316</th>\n      <td>2.136602</td>\n      <td>39.901276</td>\n      <td>0.310650</td>\n      <td>1.500203</td>\n      <td>0.970608</td>\n      <td>1.0</td>\n      <td>6394</td>\n      <td>17.509274</td>\n    </tr>\n    <tr>\n      <th>317</th>\n      <td>2.732277</td>\n      <td>26.479301</td>\n      <td>1.212530</td>\n      <td>1.613764</td>\n      <td>8.744552</td>\n      <td>10.0</td>\n      <td>6395</td>\n      <td>6.639412</td>\n    </tr>\n    <tr>\n      <th>318</th>\n      <td>2.590122</td>\n      <td>16.543350</td>\n      <td>1.469288</td>\n      <td>2.777980</td>\n      <td>10.000000</td>\n      <td>3.0</td>\n      <td>6417</td>\n      <td>19.415002</td>\n    </tr>\n    <tr>\n      <th>319</th>\n      <td>3.095894</td>\n      <td>10.339775</td>\n      <td>0.330696</td>\n      <td>10.000000</td>\n      <td>10.000000</td>\n      <td>10.0</td>\n      <td>6420</td>\n      <td>21.110593</td>\n    </tr>\n  </tbody>\n</table>\n<p>320 rows × 8 columns</p>\n</div>"
     },
     "execution_count": 5,
     "metadata": {},
     "output_type": "execute_result"
    }
   ],
   "source": [
    "from trasim_simplified.util.calibrate.clb_cf_model import clb_param_to_df\n",
    "\n",
    "param_df = clb_param_to_df(id_s, results, cf_name)\n",
    "param_df.to_pickle(r\"E:\\PyProject\\car-following-model-test\\tests\\data\\clb_dec_acc_param_df\" + f\"_{cf_name}.pkl\")\n",
    "param_df"
   ],
   "metadata": {
    "collapsed": false,
    "ExecuteTime": {
     "end_time": "2023-11-24T12:12:27.227898400Z",
     "start_time": "2023-11-24T12:12:27.116192600Z"
    }
   },
   "id": "136ce03cc1e57657"
  },
  {
   "cell_type": "code",
   "execution_count": 6,
   "outputs": [
    {
     "data": {
      "text/plain": "        mean    std    min    max\ns0      4.10   2.42   0.00  10.00\nv0     26.33  14.16  10.00  50.00\nT       1.06   0.57   0.00   3.19\nomega   2.48   2.23   0.39  10.00\nd       5.08   3.86   0.10  10.00\ndelta   6.00   3.50   1.00  10.00\nObjV   16.99   9.25   3.71  73.77",
      "text/html": "<div>\n<style scoped>\n    .dataframe tbody tr th:only-of-type {\n        vertical-align: middle;\n    }\n\n    .dataframe tbody tr th {\n        vertical-align: top;\n    }\n\n    .dataframe thead th {\n        text-align: right;\n    }\n</style>\n<table border=\"1\" class=\"dataframe\">\n  <thead>\n    <tr style=\"text-align: right;\">\n      <th></th>\n      <th>mean</th>\n      <th>std</th>\n      <th>min</th>\n      <th>max</th>\n    </tr>\n  </thead>\n  <tbody>\n    <tr>\n      <th>s0</th>\n      <td>4.10</td>\n      <td>2.42</td>\n      <td>0.00</td>\n      <td>10.00</td>\n    </tr>\n    <tr>\n      <th>v0</th>\n      <td>26.33</td>\n      <td>14.16</td>\n      <td>10.00</td>\n      <td>50.00</td>\n    </tr>\n    <tr>\n      <th>T</th>\n      <td>1.06</td>\n      <td>0.57</td>\n      <td>0.00</td>\n      <td>3.19</td>\n    </tr>\n    <tr>\n      <th>omega</th>\n      <td>2.48</td>\n      <td>2.23</td>\n      <td>0.39</td>\n      <td>10.00</td>\n    </tr>\n    <tr>\n      <th>d</th>\n      <td>5.08</td>\n      <td>3.86</td>\n      <td>0.10</td>\n      <td>10.00</td>\n    </tr>\n    <tr>\n      <th>delta</th>\n      <td>6.00</td>\n      <td>3.50</td>\n      <td>1.00</td>\n      <td>10.00</td>\n    </tr>\n    <tr>\n      <th>ObjV</th>\n      <td>16.99</td>\n      <td>9.25</td>\n      <td>3.71</td>\n      <td>73.77</td>\n    </tr>\n  </tbody>\n</table>\n</div>"
     },
     "execution_count": 6,
     "metadata": {},
     "output_type": "execute_result"
    }
   ],
   "source": [
    "pd.options.display.precision = 2\n",
    "\n",
    "param_df[param_names + [\"ObjV\"]].describe().loc[[\"mean\", \"std\", \"min\", \"max\"]].T"
   ],
   "metadata": {
    "collapsed": false,
    "ExecuteTime": {
     "end_time": "2023-11-24T12:12:30.374341200Z",
     "start_time": "2023-11-24T12:12:30.258210200Z"
    }
   },
   "id": "f71e256a8c2a64d6"
  },
  {
   "cell_type": "code",
   "execution_count": 7,
   "outputs": [
    {
     "data": {
      "text/plain": "<Figure size 640x480 with 1 Axes>",
      "image/png": "[encoded data removed]"
     },
     "metadata": {},
     "output_type": "display_data"
    }
   ],
   "source": [
    "from trasim_simplified.util.calibrate.clb_cf_model import show_traj\n",
    "import random\n",
    "import numpy as np\n",
    "\n",
    "pos = random.choice(range(len(id_s)))\n",
    "id_ = id_s[pos]\n",
    "id_ = 5283\n",
    "pos = np.where(np.array(id_s) == id_)[0][0]\n",
    "\n",
    "# pos = param_df[param_df[TI.Pair_ID] == 2778].index[0]\n",
    "\n",
    "target = param_df[param_df[TI.Pair_ID] == id_]\n",
    "obs_x = obs_x_s[pos]\n",
    "obs_v = obs_v_s[pos]\n",
    "obs_lx = obs_lx_s[pos]\n",
    "obs_lv = obs_lv_s[pos]\n",
    "leaderL = leaderL_s[pos]\n",
    "show_traj(cf_name, target.to_numpy().reshape(-1), dt, obs_x, obs_v, obs_lx, obs_lv, leaderL, traj_step=None, pair_ID=id_)"
   ],
   "metadata": {
    "collapsed": false,
    "ExecuteTime": {
     "end_time": "2023-11-24T12:14:56.269077100Z",
     "start_time": "2023-11-24T12:14:55.755598600Z"
    }
   },
   "id": "5be6303756e7d65a"
  },
  {
   "cell_type": "code",
   "execution_count": 8,
   "outputs": [],
   "source": [
    "from trasim_simplified.util.tools import save_to_pickle\n",
    "from trasim_simplified.util.calibrate.clb_cf_model import get_clb_traj\n",
    "\n",
    "clb_traj_s = get_clb_traj(traj_s_full, traj_s_cut_pos, param_df, cf_func, cf_name, dt)\n",
    "\n",
    "save_to_pickle(clb_traj_s,\n",
    "               r\"E:\\PyProject\\car-following-model-test\\tests\\data\\clb_dec_acc_traj_s\" + f\"_{cf_name}.pkl\")"
   ],
   "metadata": {
    "collapsed": false,
    "ExecuteTime": {
     "end_time": "2023-11-24T12:14:56.981779100Z",
     "start_time": "2023-11-24T12:14:56.270076200Z"
    }
   },
   "id": "72a6dbca137bdaad"
  },
  {
   "cell_type": "code",
   "execution_count": null,
   "outputs": [],
   "source": [],
   "metadata": {
    "collapsed": false
   },
   "id": "bbdfcaffe69d96a5"
  }
 ],
 "metadata": {
  "kernelspec": {
   "display_name": "Python 3",
   "language": "python",
   "name": "python3"
  },
  "language_info": {
   "codemirror_mode": {
    "name": "ipython",
    "version": 2
   },
   "file_extension": ".py",
   "mimetype": "text/x-python",
   "name": "python",
   "nbconvert_exporter": "python",
   "pygments_lexer": "ipython2",
   "version": "2.7.6"
  }
 },
 "nbformat": 4,
 "nbformat_minor": 5
}
