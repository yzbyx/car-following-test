{
 "cells": [
  {
   "cell_type": "code",
   "execution_count": 3,
   "outputs": [],
   "source": [
    "import numpy as np\n",
    "import pandas as pd\n",
    "%load_ext autoreload\n",
    "%autoreload 2\n",
    "\n",
    "from trasim_simplified.core.kinematics.cfm import get_cf_func\n",
    "from trasim_simplified.core.constant import CFM\n",
    "\n",
    "dt = 0.1\n",
    "cf_name = CFM.IDM\n",
    "cf_func = get_cf_func(cf_name)\n",
    "param_names = [\"s0\", \"v0\", \"T\", \"omega\", \"d\", \"delta\"]\n",
    "# param_names = [\"k1\", \"k2\", \"thw\", \"s0\"]"
   ],
   "metadata": {
    "collapsed": false,
    "ExecuteTime": {
     "end_time": "2024-01-19T03:02:23.963318900Z",
     "start_time": "2024-01-19T03:02:23.859967200Z"
    }
   },
   "id": "5923bc3aa2f241cf"
  },
  {
   "cell_type": "code",
   "execution_count": 2,
   "outputs": [
    {
     "name": "stdout",
     "output_type": "stream",
     "text": [
      "262\n"
     ]
    }
   ],
   "source": [
    "from trasim_simplified.util.tools import load_from_pickle\n",
    "from trasim_simplified.core.constant import TrackInfo as TI, Prefix\n",
    "\n",
    "# 读取轨迹\n",
    "traj_s_full_ori: dict[str, dict] = load_from_pickle(r\"E:\\PyProject\\car-following-model-test\\tests\\data\\ori_dec_acc_traj_s.pkl\")\n",
    "traj_s_cut_pos = {pair_id: len(df_pair) for pair_id, df_pair in traj_s_full_ori[\"dec\"].items()}\n",
    "\n",
    "traj_s_full: dict[str, pd.DataFrame] = {pair_id: pd.concat([df_pair, traj_s_full_ori[\"acc\"][pair_id]]) for pair_id, df_pair in traj_s_full_ori[\"dec\"].items()}\n",
    "obs_x_s = [traj_s_full[k][TI.x] for k in traj_s_full.keys()]\n",
    "obs_v_s = [traj_s_full[k][TI.v] for k in traj_s_full.keys()]\n",
    "obs_lx_s = [traj_s_full[k][Prefix.leader + TI.x] for k in traj_s_full.keys()]\n",
    "obs_lv_s = [traj_s_full[k][Prefix.leader + TI.v] for k in traj_s_full.keys()]\n",
    "leaderL_s = [traj_s_full[k][Prefix.leader + TI.v_Length].unique()[0] for k in traj_s_full.keys()]\n",
    "id_s = [k for k in traj_s_full.keys()]\n",
    "print(len(id_s))"
   ],
   "metadata": {
    "collapsed": false,
    "ExecuteTime": {
     "end_time": "2024-01-18T15:38:39.469216300Z",
     "start_time": "2024-01-18T15:38:39.255135500Z"
    }
   },
   "id": "d22e3253c7e12509"
  },
  {
   "cell_type": "code",
   "execution_count": 4,
   "outputs": [],
   "source": [
    "from trasim_simplified.util.calibrate.clb_cf_model import clb_run\n",
    "\n",
    "# 跟驰模型参数标定\n",
    "results = clb_run(cf_func=cf_func, cf_name=cf_name,\n",
    "                  obs_x_s=obs_x_s, obs_v_s=obs_v_s, obs_lx_s=obs_lx_s, obs_lv_s=obs_lv_s, leaderL_s=leaderL_s,\n",
    "                  dt=0.1, seed=2024, drawing=0, n_jobs=4)"
   ],
   "metadata": {
    "collapsed": false,
    "ExecuteTime": {
     "end_time": "2024-01-18T16:30:41.612624600Z",
     "start_time": "2024-01-18T16:27:01.244841400Z"
    }
   },
   "id": "933577ca7944c83"
  },
  {
   "cell_type": "code",
   "execution_count": 5,
   "outputs": [
    {
     "name": "stdout",
     "output_type": "stream",
     "text": [
      "avg_obj: 15.366488767674975\n",
      "avg_param: [ 4.08702304 25.34680301  1.02141213  2.49447159  5.33244081  6.05725191]\n",
      "std_obj: 7.75928385410205\n",
      "std_param: [ 2.50427285 13.61710714  0.56739315  2.28428325  3.82098973  3.51992216]\n"
     ]
    }
   ],
   "source": [
    "from trasim_simplified.util.calibrate.clb_cf_model import aggregate_result\n",
    "\n",
    "avg_obj, avg_param, std_obj, std_param = aggregate_result(results)\n",
    "print(f\"avg_obj: {avg_obj}\\navg_param: {avg_param}\\nstd_obj: {std_obj}\\nstd_param: {std_param}\")"
   ],
   "metadata": {
    "collapsed": false,
    "ExecuteTime": {
     "end_time": "2024-01-18T16:31:55.302755300Z",
     "start_time": "2024-01-18T16:31:55.218096Z"
    }
   },
   "id": "b35bbcd0ebbe8eda"
  },
  {
   "cell_type": "code",
   "execution_count": null,
   "outputs": [],
   "source": [
    "from trasim_simplified.util.calibrate.clb_cf_model import clb_param_to_df\n",
    "\n",
    "param_df = clb_param_to_df(id_s, results, cf_name)\n",
    "param_df.to_pickle(r\"E:\\PyProject\\car-following-model-test\\tests\\data\\clb_dec_acc_param_df\" + f\"_{cf_name}.pkl\")\n",
    "param_df"
   ],
   "metadata": {
    "collapsed": false
   },
   "id": "cff7cec80dbd20a"
  },
  {
   "cell_type": "code",
   "outputs": [
    {
     "data": {
      "text/plain": "           s0         v0         T     omega          d  delta  Pair_ID  \\\n0    5.263910  49.999962  1.541605  1.320260   8.627592   10.0      246   \n1    3.497925  12.561531  0.753784  1.666504   8.127634   10.0      249   \n2    5.456839  13.373985  1.240511  2.796910   6.160598   10.0      250   \n3    6.034975  15.261345  1.485023  1.830330  10.000000    7.0      251   \n4    4.335928  14.275742  1.358891  2.036001   2.749949   10.0      255   \n..        ...        ...       ...       ...        ...    ...      ...   \n257  0.278101  14.374847  1.220093  1.455659   6.337011    5.0    18663   \n258  0.622883  42.002907  0.455484  2.788290   0.376547   10.0    18666   \n259  2.076721  50.000000  1.566858  2.387088  10.000000   10.0    18667   \n260  8.696413  50.000000  1.035557  0.894095   3.768173   10.0    18668   \n261  5.059757  49.999962  0.000000  0.824220   1.656109   10.0    18997   \n\n          ObjV  \n0    11.514163  \n1     9.647488  \n2     7.231744  \n3    17.875899  \n4    11.664526  \n..         ...  \n257  10.245373  \n258  29.815117  \n259  22.968768  \n260  33.588205  \n261  17.945576  \n\n[262 rows x 8 columns]",
      "text/html": "<div>\n<style scoped>\n    .dataframe tbody tr th:only-of-type {\n        vertical-align: middle;\n    }\n\n    .dataframe tbody tr th {\n        vertical-align: top;\n    }\n\n    .dataframe thead th {\n        text-align: right;\n    }\n</style>\n<table border=\"1\" class=\"dataframe\">\n  <thead>\n    <tr style=\"text-align: right;\">\n      <th></th>\n      <th>s0</th>\n      <th>v0</th>\n      <th>T</th>\n      <th>omega</th>\n      <th>d</th>\n      <th>delta</th>\n      <th>Pair_ID</th>\n      <th>ObjV</th>\n    </tr>\n  </thead>\n  <tbody>\n    <tr>\n      <th>0</th>\n      <td>5.263910</td>\n      <td>49.999962</td>\n      <td>1.541605</td>\n      <td>1.320260</td>\n      <td>8.627592</td>\n      <td>10.0</td>\n      <td>246</td>\n      <td>11.514163</td>\n    </tr>\n    <tr>\n      <th>1</th>\n      <td>3.497925</td>\n      <td>12.561531</td>\n      <td>0.753784</td>\n      <td>1.666504</td>\n      <td>8.127634</td>\n      <td>10.0</td>\n      <td>249</td>\n      <td>9.647488</td>\n    </tr>\n    <tr>\n      <th>2</th>\n      <td>5.456839</td>\n      <td>13.373985</td>\n      <td>1.240511</td>\n      <td>2.796910</td>\n      <td>6.160598</td>\n      <td>10.0</td>\n      <td>250</td>\n      <td>7.231744</td>\n    </tr>\n    <tr>\n      <th>3</th>\n      <td>6.034975</td>\n      <td>15.261345</td>\n      <td>1.485023</td>\n      <td>1.830330</td>\n      <td>10.000000</td>\n      <td>7.0</td>\n      <td>251</td>\n      <td>17.875899</td>\n    </tr>\n    <tr>\n      <th>4</th>\n      <td>4.335928</td>\n      <td>14.275742</td>\n      <td>1.358891</td>\n      <td>2.036001</td>\n      <td>2.749949</td>\n      <td>10.0</td>\n      <td>255</td>\n      <td>11.664526</td>\n    </tr>\n    <tr>\n      <th>...</th>\n      <td>...</td>\n      <td>...</td>\n      <td>...</td>\n      <td>...</td>\n      <td>...</td>\n      <td>...</td>\n      <td>...</td>\n      <td>...</td>\n    </tr>\n    <tr>\n      <th>257</th>\n      <td>0.278101</td>\n      <td>14.374847</td>\n      <td>1.220093</td>\n      <td>1.455659</td>\n      <td>6.337011</td>\n      <td>5.0</td>\n      <td>18663</td>\n      <td>10.245373</td>\n    </tr>\n    <tr>\n      <th>258</th>\n      <td>0.622883</td>\n      <td>42.002907</td>\n      <td>0.455484</td>\n      <td>2.788290</td>\n      <td>0.376547</td>\n      <td>10.0</td>\n      <td>18666</td>\n      <td>29.815117</td>\n    </tr>\n    <tr>\n      <th>259</th>\n      <td>2.076721</td>\n      <td>50.000000</td>\n      <td>1.566858</td>\n      <td>2.387088</td>\n      <td>10.000000</td>\n      <td>10.0</td>\n      <td>18667</td>\n      <td>22.968768</td>\n    </tr>\n    <tr>\n      <th>260</th>\n      <td>8.696413</td>\n      <td>50.000000</td>\n      <td>1.035557</td>\n      <td>0.894095</td>\n      <td>3.768173</td>\n      <td>10.0</td>\n      <td>18668</td>\n      <td>33.588205</td>\n    </tr>\n    <tr>\n      <th>261</th>\n      <td>5.059757</td>\n      <td>49.999962</td>\n      <td>0.000000</td>\n      <td>0.824220</td>\n      <td>1.656109</td>\n      <td>10.0</td>\n      <td>18997</td>\n      <td>17.945576</td>\n    </tr>\n  </tbody>\n</table>\n<p>262 rows × 8 columns</p>\n</div>"
     },
     "execution_count": 4,
     "metadata": {},
     "output_type": "execute_result"
    }
   ],
   "source": [
    "param_df = pd.read_pickle(r\"E:\\PyProject\\car-following-model-test\\tests\\data\\clb_dec_acc_param_df\" + f\"_{cf_name}.pkl\")\n",
    "param_df"
   ],
   "metadata": {
    "collapsed": false,
    "ExecuteTime": {
     "end_time": "2024-01-19T03:02:28.088662800Z",
     "start_time": "2024-01-19T03:02:27.983445800Z"
    }
   },
   "id": "136ce03cc1e57657",
   "execution_count": 4
  },
  {
   "cell_type": "code",
   "execution_count": 5,
   "outputs": [
    {
     "data": {
      "text/plain": "        mean    std    min    max\ns0      4.09   2.51   0.00  10.00\nv0     25.35  13.64  10.00  50.00\nT       1.02   0.57   0.00   3.19\nomega   2.49   2.29   0.39  10.00\nd       5.33   3.83   0.10  10.00\ndelta   6.06   3.53   1.00  10.00\nObjV   15.37   7.77   3.71  44.37",
      "text/html": "<div>\n<style scoped>\n    .dataframe tbody tr th:only-of-type {\n        vertical-align: middle;\n    }\n\n    .dataframe tbody tr th {\n        vertical-align: top;\n    }\n\n    .dataframe thead th {\n        text-align: right;\n    }\n</style>\n<table border=\"1\" class=\"dataframe\">\n  <thead>\n    <tr style=\"text-align: right;\">\n      <th></th>\n      <th>mean</th>\n      <th>std</th>\n      <th>min</th>\n      <th>max</th>\n    </tr>\n  </thead>\n  <tbody>\n    <tr>\n      <th>s0</th>\n      <td>4.09</td>\n      <td>2.51</td>\n      <td>0.00</td>\n      <td>10.00</td>\n    </tr>\n    <tr>\n      <th>v0</th>\n      <td>25.35</td>\n      <td>13.64</td>\n      <td>10.00</td>\n      <td>50.00</td>\n    </tr>\n    <tr>\n      <th>T</th>\n      <td>1.02</td>\n      <td>0.57</td>\n      <td>0.00</td>\n      <td>3.19</td>\n    </tr>\n    <tr>\n      <th>omega</th>\n      <td>2.49</td>\n      <td>2.29</td>\n      <td>0.39</td>\n      <td>10.00</td>\n    </tr>\n    <tr>\n      <th>d</th>\n      <td>5.33</td>\n      <td>3.83</td>\n      <td>0.10</td>\n      <td>10.00</td>\n    </tr>\n    <tr>\n      <th>delta</th>\n      <td>6.06</td>\n      <td>3.53</td>\n      <td>1.00</td>\n      <td>10.00</td>\n    </tr>\n    <tr>\n      <th>ObjV</th>\n      <td>15.37</td>\n      <td>7.77</td>\n      <td>3.71</td>\n      <td>44.37</td>\n    </tr>\n  </tbody>\n</table>\n</div>"
     },
     "execution_count": 5,
     "metadata": {},
     "output_type": "execute_result"
    }
   ],
   "source": [
    "pd.options.display.precision = 2\n",
    "\n",
    "param_df[param_names + [\"ObjV\"]].describe().loc[[\"mean\", \"std\", \"min\", \"max\"]].T"
   ],
   "metadata": {
    "collapsed": false,
    "ExecuteTime": {
     "end_time": "2024-01-19T03:02:30.162538200Z",
     "start_time": "2024-01-19T03:02:30.060053300Z"
    }
   },
   "id": "f71e256a8c2a64d6"
  },
  {
   "cell_type": "code",
   "execution_count": 8,
   "outputs": [
    {
     "data": {
      "text/plain": "<Figure size 640x480 with 1 Axes>",
      "image/png": "[encoded data removed]"
     },
     "metadata": {},
     "output_type": "display_data"
    }
   ],
   "source": [
    "from trasim_simplified.util.calibrate.clb_cf_model import show_traj\n",
    "import random\n",
    "import numpy as np\n",
    "\n",
    "pos = random.choice(range(len(id_s)))\n",
    "id_ = id_s[pos]\n",
    "# id_ = 5283\n",
    "pos = np.where(np.array(id_s) == id_)[0][0]\n",
    "\n",
    "# pos = param_df[param_df[TI.Pair_ID] == 2778].index[0]\n",
    "\n",
    "target = param_df[param_df[TI.Pair_ID] == id_]\n",
    "obs_x = obs_x_s[pos]\n",
    "obs_v = obs_v_s[pos]\n",
    "obs_lx = obs_lx_s[pos]\n",
    "obs_lv = obs_lv_s[pos]\n",
    "leaderL = leaderL_s[pos]\n",
    "show_traj(cf_name, target.to_numpy().reshape(-1), dt, obs_x, obs_v, obs_lx, obs_lv, leaderL, traj_step=None, pair_ID=id_)"
   ],
   "metadata": {
    "collapsed": false,
    "ExecuteTime": {
     "end_time": "2024-01-18T16:31:59.474980800Z",
     "start_time": "2024-01-18T16:31:58.776842500Z"
    }
   },
   "id": "5be6303756e7d65a"
  },
  {
   "cell_type": "code",
   "execution_count": 9,
   "outputs": [],
   "source": [
    "from trasim_simplified.util.tools import save_to_pickle\n",
    "from trasim_simplified.util.calibrate.clb_cf_model import get_clb_traj\n",
    "\n",
    "clb_traj_s = get_clb_traj(traj_s_full, traj_s_cut_pos, param_df, cf_func, cf_name, dt)\n",
    "\n",
    "save_to_pickle(clb_traj_s,\n",
    "               r\"E:\\PyProject\\car-following-model-test\\tests\\data\\clb_dec_acc_traj_s\" + f\"_{cf_name}.pkl\")"
   ],
   "metadata": {
    "collapsed": false,
    "ExecuteTime": {
     "end_time": "2024-01-18T16:32:01.438326500Z",
     "start_time": "2024-01-18T16:32:00.909233500Z"
    }
   },
   "id": "72a6dbca137bdaad"
  },
  {
   "cell_type": "code",
   "execution_count": null,
   "outputs": [],
   "source": [],
   "metadata": {
    "collapsed": false
   },
   "id": "bbdfcaffe69d96a5"
  }
 ],
 "metadata": {
  "kernelspec": {
   "display_name": "Python 3",
   "language": "python",
   "name": "python3"
  },
  "language_info": {
   "codemirror_mode": {
    "name": "ipython",
    "version": 2
   },
   "file_extension": ".py",
   "mimetype": "text/x-python",
   "name": "python",
   "nbconvert_exporter": "python",
   "pygments_lexer": "ipython2",
   "version": "2.7.6"
  }
 },
 "nbformat": 4,
 "nbformat_minor": 5
}
