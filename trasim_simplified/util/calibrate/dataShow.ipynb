{
 "cells": [
  {
   "cell_type": "code",
   "execution_count": 46,
   "metadata": {
    "collapsed": true,
    "pycharm": {
     "name": "#%%\n"
    }
   },
   "outputs": [],
   "source": [
    "import pandas as pd\n",
    "from constant import CFM\n",
    "cfm = CFM.NON_LINEAR_GHR"
   ]
  },
  {
   "cell_type": "code",
   "execution_count": 47,
   "outputs": [
    {
     "data": {
      "text/plain": "    Vehicle_ID  Start_Loc                  ObjV         m         l  \\\n0          137        146   -0.3062877371969842 -0.907822  0.108862   \n1          152        160  -0.30209297436284316  0.029078  1.099844   \n2          176        186  -0.21444273645734807 -0.410500  0.281858   \n3          181        183   -0.3223961594435685 -0.058212  0.865335   \n4          194        187   -0.2586601570005509 -0.247507  0.888958   \n..         ...        ...                   ...       ...       ...   \n91        1840        354  -0.17929586124823627  0.177565  1.191359   \n92        2041         37  -0.20831624703731835  0.042782  0.935888   \n93        2619        165  -0.19617908062171324  0.686741  1.295986   \n94        2778        199   -0.2493923734792754  1.061935  0.880022   \n95        1021         34   -0.2752826331159781  1.031904  1.633892   \n\n            a  tau  \n0    9.465294  2.6  \n1   10.000000  2.1  \n2    2.572594  2.7  \n3    5.952091  2.4  \n4    9.999981  2.1  \n..        ...  ...  \n91  10.000000  0.4  \n92  10.000000  0.4  \n93   9.975605  1.0  \n94   1.755028  0.9  \n95   7.134228  1.3  \n\n[96 rows x 7 columns]",
      "text/html": "<div>\n<style scoped>\n    .dataframe tbody tr th:only-of-type {\n        vertical-align: middle;\n    }\n\n    .dataframe tbody tr th {\n        vertical-align: top;\n    }\n\n    .dataframe thead th {\n        text-align: right;\n    }\n</style>\n<table border=\"1\" class=\"dataframe\">\n  <thead>\n    <tr style=\"text-align: right;\">\n      <th></th>\n      <th>Vehicle_ID</th>\n      <th>Start_Loc</th>\n      <th>ObjV</th>\n      <th>m</th>\n      <th>l</th>\n      <th>a</th>\n      <th>tau</th>\n    </tr>\n  </thead>\n  <tbody>\n    <tr>\n      <th>0</th>\n      <td>137</td>\n      <td>146</td>\n      <td>-0.3062877371969842</td>\n      <td>-0.907822</td>\n      <td>0.108862</td>\n      <td>9.465294</td>\n      <td>2.6</td>\n    </tr>\n    <tr>\n      <th>1</th>\n      <td>152</td>\n      <td>160</td>\n      <td>-0.30209297436284316</td>\n      <td>0.029078</td>\n      <td>1.099844</td>\n      <td>10.000000</td>\n      <td>2.1</td>\n    </tr>\n    <tr>\n      <th>2</th>\n      <td>176</td>\n      <td>186</td>\n      <td>-0.21444273645734807</td>\n      <td>-0.410500</td>\n      <td>0.281858</td>\n      <td>2.572594</td>\n      <td>2.7</td>\n    </tr>\n    <tr>\n      <th>3</th>\n      <td>181</td>\n      <td>183</td>\n      <td>-0.3223961594435685</td>\n      <td>-0.058212</td>\n      <td>0.865335</td>\n      <td>5.952091</td>\n      <td>2.4</td>\n    </tr>\n    <tr>\n      <th>4</th>\n      <td>194</td>\n      <td>187</td>\n      <td>-0.2586601570005509</td>\n      <td>-0.247507</td>\n      <td>0.888958</td>\n      <td>9.999981</td>\n      <td>2.1</td>\n    </tr>\n    <tr>\n      <th>...</th>\n      <td>...</td>\n      <td>...</td>\n      <td>...</td>\n      <td>...</td>\n      <td>...</td>\n      <td>...</td>\n      <td>...</td>\n    </tr>\n    <tr>\n      <th>91</th>\n      <td>1840</td>\n      <td>354</td>\n      <td>-0.17929586124823627</td>\n      <td>0.177565</td>\n      <td>1.191359</td>\n      <td>10.000000</td>\n      <td>0.4</td>\n    </tr>\n    <tr>\n      <th>92</th>\n      <td>2041</td>\n      <td>37</td>\n      <td>-0.20831624703731835</td>\n      <td>0.042782</td>\n      <td>0.935888</td>\n      <td>10.000000</td>\n      <td>0.4</td>\n    </tr>\n    <tr>\n      <th>93</th>\n      <td>2619</td>\n      <td>165</td>\n      <td>-0.19617908062171324</td>\n      <td>0.686741</td>\n      <td>1.295986</td>\n      <td>9.975605</td>\n      <td>1.0</td>\n    </tr>\n    <tr>\n      <th>94</th>\n      <td>2778</td>\n      <td>199</td>\n      <td>-0.2493923734792754</td>\n      <td>1.061935</td>\n      <td>0.880022</td>\n      <td>1.755028</td>\n      <td>0.9</td>\n    </tr>\n    <tr>\n      <th>95</th>\n      <td>1021</td>\n      <td>34</td>\n      <td>-0.2752826331159781</td>\n      <td>1.031904</td>\n      <td>1.633892</td>\n      <td>7.134228</td>\n      <td>1.3</td>\n    </tr>\n  </tbody>\n</table>\n<p>96 rows × 7 columns</p>\n</div>"
     },
     "execution_count": 47,
     "metadata": {},
     "output_type": "execute_result"
    }
   ],
   "source": [
    "df: pd.DataFrame = pd.read_pickle('./data/df_' + cfm)\n",
    "df"
   ],
   "metadata": {
    "collapsed": false,
    "pycharm": {
     "name": "#%%\n"
    }
   }
  },
  {
   "cell_type": "code",
   "execution_count": 48,
   "outputs": [
    {
     "data": {
      "text/plain": "    Vehicle_ID  Start_Loc                  ObjV         m         l  \\\n0          137        146   -0.3062877371969842 -0.907822  0.108862   \n1          152        160  -0.30209297436284316  0.029078  1.099844   \n2          176        186  -0.21444273645734807 -0.410500  0.281858   \n3          181        183   -0.3223961594435685 -0.058212  0.865335   \n4          194        187   -0.2586601570005509 -0.247507  0.888958   \n..         ...        ...                   ...       ...       ...   \n91        1840        354  -0.17929586124823627  0.177565  1.191359   \n92        2041         37  -0.20831624703731835  0.042782  0.935888   \n93        2619        165  -0.19617908062171324  0.686741  1.295986   \n94        2778        199   -0.2493923734792754  1.061935  0.880022   \n95        1021         34   -0.2752826331159781  1.031904  1.633892   \n\n            a  tau  Dec_Or_Acc      Q_Delta    Gap_Avg     Min_V      Max_V  \\\n0    9.465294  2.6         2.0  -378.415200   8.296686  7.983299  16.994496   \n1   10.000000  2.1         2.0 -1378.679495  26.515037  3.448628  15.847656   \n2    2.572594  2.7         2.0  -538.651960  16.276789  4.097088  14.386812   \n3    5.952091  2.4         2.0 -3388.956913  22.612999  2.470474  16.018692   \n4    9.999981  2.1        -1.0  8618.520029  32.186877  2.379743  15.477220   \n..        ...  ...         ...          ...        ...       ...        ...   \n91  10.000000  0.4         1.0  -282.969693   3.536363  2.462711  14.787192   \n92  10.000000  0.4         1.0  -178.200266   1.198905  0.012908  11.612722   \n93   9.975605  1.0        -1.0    71.842452  -1.156556  0.420630   9.138161   \n94   1.755028  0.9        -1.0   143.443626  -1.752270  0.556238  10.033666   \n95   7.134228  1.3         1.0  -140.068639   0.466051  2.740289  11.950094   \n\n    Time_Acc  Time_Dec  \n0        7.8      15.6  \n1       16.8      10.5  \n2       13.5       8.1  \n3       19.2       7.2  \n4       25.2       4.2  \n..       ...       ...  \n91      16.0       9.6  \n92      10.4      25.2  \n93      29.0      17.0  \n94      27.9      17.1  \n95      15.6      23.4  \n\n[96 rows x 14 columns]",
      "text/html": "<div>\n<style scoped>\n    .dataframe tbody tr th:only-of-type {\n        vertical-align: middle;\n    }\n\n    .dataframe tbody tr th {\n        vertical-align: top;\n    }\n\n    .dataframe thead th {\n        text-align: right;\n    }\n</style>\n<table border=\"1\" class=\"dataframe\">\n  <thead>\n    <tr style=\"text-align: right;\">\n      <th></th>\n      <th>Vehicle_ID</th>\n      <th>Start_Loc</th>\n      <th>ObjV</th>\n      <th>m</th>\n      <th>l</th>\n      <th>a</th>\n      <th>tau</th>\n      <th>Dec_Or_Acc</th>\n      <th>Q_Delta</th>\n      <th>Gap_Avg</th>\n      <th>Min_V</th>\n      <th>Max_V</th>\n      <th>Time_Acc</th>\n      <th>Time_Dec</th>\n    </tr>\n  </thead>\n  <tbody>\n    <tr>\n      <th>0</th>\n      <td>137</td>\n      <td>146</td>\n      <td>-0.3062877371969842</td>\n      <td>-0.907822</td>\n      <td>0.108862</td>\n      <td>9.465294</td>\n      <td>2.6</td>\n      <td>2.0</td>\n      <td>-378.415200</td>\n      <td>8.296686</td>\n      <td>7.983299</td>\n      <td>16.994496</td>\n      <td>7.8</td>\n      <td>15.6</td>\n    </tr>\n    <tr>\n      <th>1</th>\n      <td>152</td>\n      <td>160</td>\n      <td>-0.30209297436284316</td>\n      <td>0.029078</td>\n      <td>1.099844</td>\n      <td>10.000000</td>\n      <td>2.1</td>\n      <td>2.0</td>\n      <td>-1378.679495</td>\n      <td>26.515037</td>\n      <td>3.448628</td>\n      <td>15.847656</td>\n      <td>16.8</td>\n      <td>10.5</td>\n    </tr>\n    <tr>\n      <th>2</th>\n      <td>176</td>\n      <td>186</td>\n      <td>-0.21444273645734807</td>\n      <td>-0.410500</td>\n      <td>0.281858</td>\n      <td>2.572594</td>\n      <td>2.7</td>\n      <td>2.0</td>\n      <td>-538.651960</td>\n      <td>16.276789</td>\n      <td>4.097088</td>\n      <td>14.386812</td>\n      <td>13.5</td>\n      <td>8.1</td>\n    </tr>\n    <tr>\n      <th>3</th>\n      <td>181</td>\n      <td>183</td>\n      <td>-0.3223961594435685</td>\n      <td>-0.058212</td>\n      <td>0.865335</td>\n      <td>5.952091</td>\n      <td>2.4</td>\n      <td>2.0</td>\n      <td>-3388.956913</td>\n      <td>22.612999</td>\n      <td>2.470474</td>\n      <td>16.018692</td>\n      <td>19.2</td>\n      <td>7.2</td>\n    </tr>\n    <tr>\n      <th>4</th>\n      <td>194</td>\n      <td>187</td>\n      <td>-0.2586601570005509</td>\n      <td>-0.247507</td>\n      <td>0.888958</td>\n      <td>9.999981</td>\n      <td>2.1</td>\n      <td>-1.0</td>\n      <td>8618.520029</td>\n      <td>32.186877</td>\n      <td>2.379743</td>\n      <td>15.477220</td>\n      <td>25.2</td>\n      <td>4.2</td>\n    </tr>\n    <tr>\n      <th>...</th>\n      <td>...</td>\n      <td>...</td>\n      <td>...</td>\n      <td>...</td>\n      <td>...</td>\n      <td>...</td>\n      <td>...</td>\n      <td>...</td>\n      <td>...</td>\n      <td>...</td>\n      <td>...</td>\n      <td>...</td>\n      <td>...</td>\n      <td>...</td>\n    </tr>\n    <tr>\n      <th>91</th>\n      <td>1840</td>\n      <td>354</td>\n      <td>-0.17929586124823627</td>\n      <td>0.177565</td>\n      <td>1.191359</td>\n      <td>10.000000</td>\n      <td>0.4</td>\n      <td>1.0</td>\n      <td>-282.969693</td>\n      <td>3.536363</td>\n      <td>2.462711</td>\n      <td>14.787192</td>\n      <td>16.0</td>\n      <td>9.6</td>\n    </tr>\n    <tr>\n      <th>92</th>\n      <td>2041</td>\n      <td>37</td>\n      <td>-0.20831624703731835</td>\n      <td>0.042782</td>\n      <td>0.935888</td>\n      <td>10.000000</td>\n      <td>0.4</td>\n      <td>1.0</td>\n      <td>-178.200266</td>\n      <td>1.198905</td>\n      <td>0.012908</td>\n      <td>11.612722</td>\n      <td>10.4</td>\n      <td>25.2</td>\n    </tr>\n    <tr>\n      <th>93</th>\n      <td>2619</td>\n      <td>165</td>\n      <td>-0.19617908062171324</td>\n      <td>0.686741</td>\n      <td>1.295986</td>\n      <td>9.975605</td>\n      <td>1.0</td>\n      <td>-1.0</td>\n      <td>71.842452</td>\n      <td>-1.156556</td>\n      <td>0.420630</td>\n      <td>9.138161</td>\n      <td>29.0</td>\n      <td>17.0</td>\n    </tr>\n    <tr>\n      <th>94</th>\n      <td>2778</td>\n      <td>199</td>\n      <td>-0.2493923734792754</td>\n      <td>1.061935</td>\n      <td>0.880022</td>\n      <td>1.755028</td>\n      <td>0.9</td>\n      <td>-1.0</td>\n      <td>143.443626</td>\n      <td>-1.752270</td>\n      <td>0.556238</td>\n      <td>10.033666</td>\n      <td>27.9</td>\n      <td>17.1</td>\n    </tr>\n    <tr>\n      <th>95</th>\n      <td>1021</td>\n      <td>34</td>\n      <td>-0.2752826331159781</td>\n      <td>1.031904</td>\n      <td>1.633892</td>\n      <td>7.134228</td>\n      <td>1.3</td>\n      <td>1.0</td>\n      <td>-140.068639</td>\n      <td>0.466051</td>\n      <td>2.740289</td>\n      <td>11.950094</td>\n      <td>15.6</td>\n      <td>23.4</td>\n    </tr>\n  </tbody>\n</table>\n<p>96 rows × 14 columns</p>\n</div>"
     },
     "execution_count": 48,
     "metadata": {},
     "output_type": "execute_result"
    }
   ],
   "source": [
    "df_2: pd.DataFrame = pd.read_pickle('./data/df_' + cfm + '_clb')\n",
    "df_2"
   ],
   "metadata": {
    "collapsed": false,
    "pycharm": {
     "name": "#%%\n"
    }
   }
  },
  {
   "cell_type": "code",
   "execution_count": 6,
   "outputs": [],
   "source": [
    "from drawer import Drawer\n",
    "drawer = Drawer()\n",
    "drawer.initFigure()\n",
    "df_2 = df_2.dropna(axis=0,how='any')\n",
    "df_2['Q_001'] = df_2['Q_Delta'] / 100\n",
    "labels = [ r'$V_{min}(m/s)$',\n",
    "          r'$V_{max}(m/s)$', r'$T_{acc}(s)$', r'$T_{dec}(s)$']\n",
    "# show = [False, True, True, True, True, True]\n",
    "drawer.myBoxPlot(x=df_2[[ 'Min_V', 'Max_V', 'Time_Acc', 'Time_Dec']], labels=labels,\n",
    "                 showFliers=True)\n",
    "drawer.saveFigure(path=f'F:\\大学\\大四课程\\毕业设计\\图表\\\\{cfm}箱线图.svg')"
   ],
   "metadata": {
    "collapsed": false,
    "pycharm": {
     "name": "#%%\n"
    }
   }
  },
  {
   "cell_type": "code",
   "execution_count": 49,
   "outputs": [
    {
     "data": {
      "text/plain": "           m         l          a  tau      Q_Delta    Gap_Avg  \\\n0  -0.907822  0.108862   9.465294  2.6  -378.415200   8.296686   \n1   0.029078  1.099844  10.000000  2.1 -1378.679495  26.515037   \n2  -0.410500  0.281858   2.572594  2.7  -538.651960  16.276789   \n3  -0.058212  0.865335   5.952091  2.4 -3388.956913  22.612999   \n4  -0.247507  0.888958   9.999981  2.1  8618.520029  32.186877   \n..       ...       ...        ...  ...          ...        ...   \n91  0.177565  1.191359  10.000000  0.4  -282.969693   3.536363   \n92  0.042782  0.935888  10.000000  0.4  -178.200266   1.198905   \n93  0.686741  1.295986   9.975605  1.0    71.842452  -1.156556   \n94  1.061935  0.880022   1.755028  0.9   143.443626  -1.752270   \n95  1.031904  1.633892   7.134228  1.3  -140.068639   0.466051   \n\n                    ObjV  Vehicle_ID  Start_Loc  \n0    -0.3062877371969842         137        146  \n1   -0.30209297436284316         152        160  \n2   -0.21444273645734807         176        186  \n3    -0.3223961594435685         181        183  \n4    -0.2586601570005509         194        187  \n..                   ...         ...        ...  \n91  -0.17929586124823627        1840        354  \n92  -0.20831624703731835        2041         37  \n93  -0.19617908062171324        2619        165  \n94   -0.2493923734792754        2778        199  \n95   -0.2752826331159781        1021         34  \n\n[96 rows x 9 columns]",
      "text/html": "<div>\n<style scoped>\n    .dataframe tbody tr th:only-of-type {\n        vertical-align: middle;\n    }\n\n    .dataframe tbody tr th {\n        vertical-align: top;\n    }\n\n    .dataframe thead th {\n        text-align: right;\n    }\n</style>\n<table border=\"1\" class=\"dataframe\">\n  <thead>\n    <tr style=\"text-align: right;\">\n      <th></th>\n      <th>m</th>\n      <th>l</th>\n      <th>a</th>\n      <th>tau</th>\n      <th>Q_Delta</th>\n      <th>Gap_Avg</th>\n      <th>ObjV</th>\n      <th>Vehicle_ID</th>\n      <th>Start_Loc</th>\n    </tr>\n  </thead>\n  <tbody>\n    <tr>\n      <th>0</th>\n      <td>-0.907822</td>\n      <td>0.108862</td>\n      <td>9.465294</td>\n      <td>2.6</td>\n      <td>-378.415200</td>\n      <td>8.296686</td>\n      <td>-0.3062877371969842</td>\n      <td>137</td>\n      <td>146</td>\n    </tr>\n    <tr>\n      <th>1</th>\n      <td>0.029078</td>\n      <td>1.099844</td>\n      <td>10.000000</td>\n      <td>2.1</td>\n      <td>-1378.679495</td>\n      <td>26.515037</td>\n      <td>-0.30209297436284316</td>\n      <td>152</td>\n      <td>160</td>\n    </tr>\n    <tr>\n      <th>2</th>\n      <td>-0.410500</td>\n      <td>0.281858</td>\n      <td>2.572594</td>\n      <td>2.7</td>\n      <td>-538.651960</td>\n      <td>16.276789</td>\n      <td>-0.21444273645734807</td>\n      <td>176</td>\n      <td>186</td>\n    </tr>\n    <tr>\n      <th>3</th>\n      <td>-0.058212</td>\n      <td>0.865335</td>\n      <td>5.952091</td>\n      <td>2.4</td>\n      <td>-3388.956913</td>\n      <td>22.612999</td>\n      <td>-0.3223961594435685</td>\n      <td>181</td>\n      <td>183</td>\n    </tr>\n    <tr>\n      <th>4</th>\n      <td>-0.247507</td>\n      <td>0.888958</td>\n      <td>9.999981</td>\n      <td>2.1</td>\n      <td>8618.520029</td>\n      <td>32.186877</td>\n      <td>-0.2586601570005509</td>\n      <td>194</td>\n      <td>187</td>\n    </tr>\n    <tr>\n      <th>...</th>\n      <td>...</td>\n      <td>...</td>\n      <td>...</td>\n      <td>...</td>\n      <td>...</td>\n      <td>...</td>\n      <td>...</td>\n      <td>...</td>\n      <td>...</td>\n    </tr>\n    <tr>\n      <th>91</th>\n      <td>0.177565</td>\n      <td>1.191359</td>\n      <td>10.000000</td>\n      <td>0.4</td>\n      <td>-282.969693</td>\n      <td>3.536363</td>\n      <td>-0.17929586124823627</td>\n      <td>1840</td>\n      <td>354</td>\n    </tr>\n    <tr>\n      <th>92</th>\n      <td>0.042782</td>\n      <td>0.935888</td>\n      <td>10.000000</td>\n      <td>0.4</td>\n      <td>-178.200266</td>\n      <td>1.198905</td>\n      <td>-0.20831624703731835</td>\n      <td>2041</td>\n      <td>37</td>\n    </tr>\n    <tr>\n      <th>93</th>\n      <td>0.686741</td>\n      <td>1.295986</td>\n      <td>9.975605</td>\n      <td>1.0</td>\n      <td>71.842452</td>\n      <td>-1.156556</td>\n      <td>-0.19617908062171324</td>\n      <td>2619</td>\n      <td>165</td>\n    </tr>\n    <tr>\n      <th>94</th>\n      <td>1.061935</td>\n      <td>0.880022</td>\n      <td>1.755028</td>\n      <td>0.9</td>\n      <td>143.443626</td>\n      <td>-1.752270</td>\n      <td>-0.2493923734792754</td>\n      <td>2778</td>\n      <td>199</td>\n    </tr>\n    <tr>\n      <th>95</th>\n      <td>1.031904</td>\n      <td>1.633892</td>\n      <td>7.134228</td>\n      <td>1.3</td>\n      <td>-140.068639</td>\n      <td>0.466051</td>\n      <td>-0.2752826331159781</td>\n      <td>1021</td>\n      <td>34</td>\n    </tr>\n  </tbody>\n</table>\n<p>96 rows × 9 columns</p>\n</div>"
     },
     "execution_count": 49,
     "metadata": {},
     "output_type": "execute_result"
    }
   ],
   "source": [
    "from CLB_CFModel import CLB_CFModel\n",
    "fList: list = CLB_CFModel.Name[cfm].copy()\n",
    "fList.extend(['Q_Delta', 'Gap_Avg', 'ObjV', 'Vehicle_ID', 'Start_Loc'])\n",
    "df_corr = df_2[fList]\n",
    "df_corr"
   ],
   "metadata": {
    "collapsed": false,
    "pycharm": {
     "name": "#%%\n"
    }
   }
  },
  {
   "cell_type": "code",
   "execution_count": 50,
   "outputs": [],
   "source": [
    "df_corr.to_csv('./data/df_final_' + cfm + '.csv', index=False)"
   ],
   "metadata": {
    "collapsed": false,
    "pycharm": {
     "name": "#%%\n"
    }
   }
  },
  {
   "cell_type": "code",
   "execution_count": null,
   "outputs": [],
   "source": [
    "df_corr.corr(method='spearman')"
   ],
   "metadata": {
    "collapsed": false,
    "pycharm": {
     "name": "#%%\n"
    }
   }
  },
  {
   "cell_type": "code",
   "execution_count": null,
   "outputs": [],
   "source": [
    "from scipy.stats import stats\n",
    "rho, pval = stats.spearmanr(df_corr, axis=0)\n",
    "rho"
   ],
   "metadata": {
    "collapsed": false,
    "pycharm": {
     "name": "#%%\n"
    }
   }
  },
  {
   "cell_type": "code",
   "execution_count": null,
   "outputs": [],
   "source": [
    "pval"
   ],
   "metadata": {
    "collapsed": false,
    "pycharm": {
     "name": "#%%\n"
    }
   }
  },
  {
   "cell_type": "code",
   "execution_count": null,
   "outputs": [],
   "source": [],
   "metadata": {
    "collapsed": false,
    "pycharm": {
     "name": "#%%\n"
    }
   }
  }
 ],
 "metadata": {
  "kernelspec": {
   "display_name": "Python 3",
   "language": "python",
   "name": "python3"
  },
  "language_info": {
   "codemirror_mode": {
    "name": "ipython",
    "version": 2
   },
   "file_extension": ".py",
   "mimetype": "text/x-python",
   "name": "python",
   "nbconvert_exporter": "python",
   "pygments_lexer": "ipython2",
   "version": "2.7.6"
  }
 },
 "nbformat": 4,
 "nbformat_minor": 0
}